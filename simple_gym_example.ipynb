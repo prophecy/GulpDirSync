{
  "nbformat": 4,
  "nbformat_minor": 0,
  "metadata": {
    "colab": {
      "name": "simple gym example.ipynb",
      "version": "0.3.2",
      "provenance": [],
      "include_colab_link": true
    },
    "kernelspec": {
      "name": "python3",
      "display_name": "Python 3"
    }
  },
  "cells": [
    {
      "cell_type": "markdown",
      "metadata": {
        "id": "view-in-github",
        "colab_type": "text"
      },
      "source": [
        "<a href=\"https://colab.research.google.com/github/prophecy/KonbiniScripts/blob/master/simple_gym_example.ipynb\" target=\"_parent\"><img src=\"https://colab.research.google.com/assets/colab-badge.svg\" alt=\"Open In Colab\"/></a>"
      ]
    },
    {
      "cell_type": "code",
      "metadata": {
        "id": "7kpZUbpAFdoJ",
        "colab_type": "code",
        "outputId": "606defa4-00ca-47a5-8736-851e3c68915b",
        "colab": {
          "base_uri": "https://localhost:8080/",
          "height": 52
        }
      },
      "source": [
        "import gym\n",
        "import numpy as np\n",
        "\n",
        "env = gym.make('MountainCar-v0')\n",
        "print(env.observation_space.low)\n",
        "print(env.observation_space.high)\n"
      ],
      "execution_count": 0,
      "outputs": [
        {
          "output_type": "stream",
          "text": [
            "[-1.2  -0.07]\n",
            "[0.6  0.07]\n"
          ],
          "name": "stdout"
        }
      ]
    },
    {
      "cell_type": "code",
      "metadata": {
        "id": "V9PNFOfwGz0Q",
        "colab_type": "code",
        "colab": {}
      },
      "source": [
        "env.reset()\n",
        "for i in range(200):\n",
        "        env.render()\n",
        "        state2, reward, done, info=env.step(np.random.randint(3))\n",
        "        if done:\n",
        "                break\n",
        "env.close()"
      ],
      "execution_count": 0,
      "outputs": []
    }
  ]
}