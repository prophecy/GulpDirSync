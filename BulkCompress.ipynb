{
 "cells": [
  {
   "cell_type": "code",
   "execution_count": 1,
   "metadata": {},
   "outputs": [],
   "source": [
    "import os\n",
    "\n",
    "def getListAllFilesName(dir_path):\n",
    "    all_files_path = []\n",
    "\n",
    "    for (dirpath, dirnames, filenames) in os.walk(dir_path):\n",
    "        for f in filenames:\n",
    "            all_files_path.append(os.path.join(dirpath, f))\n",
    "\n",
    "    return all_files_path"
   ]
  },
  {
   "cell_type": "markdown",
   "metadata": {},
   "source": [
    "# Get file path list"
   ]
  },
  {
   "cell_type": "code",
   "execution_count": 2,
   "metadata": {},
   "outputs": [
    {
     "data": {
      "text/html": [
       "<div>\n",
       "<style scoped>\n",
       "    .dataframe tbody tr th:only-of-type {\n",
       "        vertical-align: middle;\n",
       "    }\n",
       "\n",
       "    .dataframe tbody tr th {\n",
       "        vertical-align: top;\n",
       "    }\n",
       "\n",
       "    .dataframe thead th {\n",
       "        text-align: right;\n",
       "    }\n",
       "</style>\n",
       "<table border=\"1\" class=\"dataframe\">\n",
       "  <thead>\n",
       "    <tr style=\"text-align: right;\">\n",
       "      <th></th>\n",
       "      <th>0</th>\n",
       "    </tr>\n",
       "  </thead>\n",
       "  <tbody>\n",
       "    <tr>\n",
       "      <th>0</th>\n",
       "      <td>C:\\Users\\adawat\\Desktop\\BulkCompress\\Archive\\d...</td>\n",
       "    </tr>\n",
       "    <tr>\n",
       "      <th>1</th>\n",
       "      <td>C:\\Users\\adawat\\Desktop\\BulkCompress\\Archive\\d...</td>\n",
       "    </tr>\n",
       "    <tr>\n",
       "      <th>...</th>\n",
       "      <td>...</td>\n",
       "    </tr>\n",
       "    <tr>\n",
       "      <th>1115</th>\n",
       "      <td>C:\\Users\\adawat\\Desktop\\BulkCompress\\Archive\\d...</td>\n",
       "    </tr>\n",
       "    <tr>\n",
       "      <th>1116</th>\n",
       "      <td>C:\\Users\\adawat\\Desktop\\BulkCompress\\Archive\\d...</td>\n",
       "    </tr>\n",
       "  </tbody>\n",
       "</table>\n",
       "<p>1117 rows × 1 columns</p>\n",
       "</div>"
      ],
      "text/plain": [
       "                                                      0\n",
       "0     C:\\Users\\adawat\\Desktop\\BulkCompress\\Archive\\d...\n",
       "1     C:\\Users\\adawat\\Desktop\\BulkCompress\\Archive\\d...\n",
       "...                                                 ...\n",
       "1115  C:\\Users\\adawat\\Desktop\\BulkCompress\\Archive\\d...\n",
       "1116  C:\\Users\\adawat\\Desktop\\BulkCompress\\Archive\\d...\n",
       "\n",
       "[1117 rows x 1 columns]"
      ]
     },
     "metadata": {},
     "output_type": "display_data"
    },
    {
     "data": {
      "text/plain": [
       "'C:\\\\Users\\\\adawat\\\\Desktop\\\\BulkCompress\\\\Archive\\\\drawable\\\\eh.png'"
      ]
     },
     "execution_count": 2,
     "metadata": {},
     "output_type": "execute_result"
    }
   ],
   "source": [
    "import pandas as pd\n",
    "\n",
    "rootPath = 'C:\\\\Users\\\\adawat\\\\Desktop\\\\BulkCompress\\\\Archive\\\\'\n",
    "allFilePath = getListAllFilesName(rootPath)\n",
    "\n",
    "df = pd.DataFrame(allFilePath)\n",
    "pd.options.display.max_rows = 4\n",
    "display(df)\n",
    "\n",
    "# print sample files\n",
    "allFilePath[99]"
   ]
  },
  {
   "cell_type": "markdown",
   "metadata": {},
   "source": [
    "# Test calling WebP command"
   ]
  },
  {
   "cell_type": "code",
   "execution_count": 3,
   "metadata": {},
   "outputs": [
    {
     "name": "stdout",
     "output_type": "stream",
     "text": [
      "cwebp -q 100 -lossless C:\\Users\\adawat\\Desktop\\BulkCompress\\Archive\\drawable-xhdpi\\yamaha_reward_enable.png -o C:\\Users\\adawat\\Desktop\\BulkCompress\\Output\\sample.webp\n"
     ]
    },
    {
     "data": {
      "text/plain": [
       "0"
      ]
     },
     "execution_count": 3,
     "metadata": {},
     "output_type": "execute_result"
    }
   ],
   "source": [
    "import subprocess\n",
    "\n",
    "samplePath = allFilePath[999]\n",
    "outSamplePath = 'C:\\\\Users\\\\adawat\\\\Desktop\\\\BulkCompress\\\\Output\\\\sample.webp'\n",
    "\n",
    "cmd = 'cwebp -q 100 -lossless %s -o %s' % (samplePath, outSamplePath)\n",
    "\n",
    "print cmd\n",
    "\n",
    "subprocess.call(cmd)"
   ]
  },
  {
   "cell_type": "markdown",
   "metadata": {},
   "source": [
    "# Batch process converter"
   ]
  },
  {
   "cell_type": "code",
   "execution_count": 4,
   "metadata": {},
   "outputs": [
    {
     "name": "stdout",
     "output_type": "stream",
     "text": [
      "srcPath: C:\\Users\\adawat\\Desktop\\BulkCompress\\Archive\\drawable-xxxhdpi\\yes.png\n",
      "yes.png\n",
      "drawable-xxxhdpi\n",
      "cwebp -q 100 -lossless C:\\Users\\adawat\\Desktop\\BulkCompress\\Archive\\drawable-xxxhdpi\\yes.png -o C:\\Users\\adawat\\Desktop\\BulkCompress\\Output\\drawable-xxxhdpi\\yes.webp\n",
      "Convert file from C:\\Users\\adawat\\Desktop\\BulkCompress\\Archive\\drawable-xxxhdpi\\yes.png to C:\\Users\\adawat\\Desktop\\BulkCompress\\Output\\drawable-xxxhdpi\\yes.webp\n",
      "Finish!\n"
     ]
    }
   ],
   "source": [
    "import subprocess\n",
    "from shutil import copyfile\n",
    "from IPython.display import display, clear_output\n",
    "\n",
    "allShortPath = []\n",
    "\n",
    "# Remove root path\n",
    "for i in range(len(allFilePath)):\n",
    "    path = allFilePath[i]\n",
    "    allShortPath.append(path.replace(rootPath, ''))\n",
    "\n",
    "# Show all path\n",
    "# for p in allShortPath:\n",
    "#    print p\n",
    "\n",
    "# Get dir name list\n",
    "tokenList = []\n",
    "for i in range(len(allShortPath)):\n",
    "    path = allShortPath[i]\n",
    "    tk = path.split('\\\\')\n",
    "    tokenList.append(tk)\n",
    "    \n",
    "# Show all token\n",
    "#for tk in tokenList:\n",
    "#    print tk\n",
    "\n",
    "tkDirIndex = 0\n",
    "tkFileIndex = 1\n",
    "outPath = 'C:\\\\Users\\\\adawat\\\\Desktop\\\\BulkCompress\\\\Output'\n",
    "\n",
    "# Convert files\n",
    "for i in range(len(allFilePath)):\n",
    "    \n",
    "    clear_output(wait=True)\n",
    "\n",
    "    try:\n",
    "\n",
    "        srcPath = allFilePath[i]\n",
    "        print 'srcPath: %s' % (srcPath)\n",
    "        \n",
    "        dName = tokenList[i][tkDirIndex]\n",
    "        fNameExt = tokenList[i][tkFileIndex]\n",
    "        \n",
    "        print fNameExt\n",
    "\n",
    "        tkN = fNameExt.split('.')\n",
    "        fName = tkN[0]\n",
    "        fExtension = tkN[1]\n",
    "\n",
    "        # Check black list\n",
    "        isBlackList = False\n",
    "        print dName\n",
    "        \n",
    "        if dName == 'drawable':\n",
    "            isBlackList = True\n",
    "        elif fExtension == 'png':\n",
    "            if '_header.png' in fNameExt:\n",
    "                isBlackList = True\n",
    "            elif '_body.png' in fNameExt:\n",
    "                isBlackList = True\n",
    "            elif '_bottom.png' in fNameExt:\n",
    "                isBlackList = True\n",
    "            elif '_footer.png' in fNameExt:\n",
    "                isBlackList = True\n",
    "        \n",
    "        if fExtension == 'png' and not isBlackList:\n",
    "    \n",
    "            dst = '%s\\\\%s\\\\%s.webp' % (outPath, dName, fName)\n",
    "            cmd = 'cwebp -q 100 -lossless %s -o %s' % (srcPath, dst)\n",
    "\n",
    "            print cmd\n",
    "\n",
    "            print 'Convert file from %s to %s' % (srcPath, dst)\n",
    "            subprocess.call(cmd)\n",
    "        else:\n",
    "            dst = '%s\\\\%s\\\\%s' % (outPath, dName, fNameExt)\n",
    "            print 'Copy file from %s to %s' % (srcPath, dst)\n",
    "            copyfile(srcPath, dst)\n",
    "            \n",
    "    except Exception, err:\n",
    "        print Exception, err\n",
    "        \n",
    "print 'Finish!'"
   ]
  },
  {
   "cell_type": "code",
   "execution_count": null,
   "metadata": {},
   "outputs": [],
   "source": []
  }
 ],
 "metadata": {
  "kernelspec": {
   "display_name": "Python 2",
   "language": "python",
   "name": "python2"
  },
  "language_info": {
   "codemirror_mode": {
    "name": "ipython",
    "version": 2
   },
   "file_extension": ".py",
   "mimetype": "text/x-python",
   "name": "python",
   "nbconvert_exporter": "python",
   "pygments_lexer": "ipython2",
   "version": "2.7.15"
  }
 },
 "nbformat": 4,
 "nbformat_minor": 2
}
